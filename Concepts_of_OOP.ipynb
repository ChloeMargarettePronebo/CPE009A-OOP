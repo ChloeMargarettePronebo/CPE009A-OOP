{
  "nbformat": 4,
  "nbformat_minor": 0,
  "metadata": {
    "colab": {
      "provenance": [],
      "authorship_tag": "ABX9TyMH7folVQilQ2xWZkdAHxTi",
      "include_colab_link": true
    },
    "kernelspec": {
      "name": "python3",
      "display_name": "Python 3"
    },
    "language_info": {
      "name": "python"
    }
  },
  "cells": [
    {
      "cell_type": "markdown",
      "metadata": {
        "id": "view-in-github",
        "colab_type": "text"
      },
      "source": [
        "<a href=\"https://colab.research.google.com/github/klowimargarette/CPE009A-OOP/blob/main/Concepts_of_OOP.ipynb\" target=\"_parent\"><img src=\"https://colab.research.google.com/assets/colab-badge.svg\" alt=\"Open In Colab\"/></a>"
      ]
    },
    {
      "cell_type": "code",
      "execution_count": 3,
      "metadata": {
        "colab": {
          "base_uri": "https://localhost:8080/"
        },
        "id": "iiZ3i0A1hU4t",
        "outputId": "c1ef6bde-03a7-4981-db45-892a0a033c48"
      },
      "outputs": [
        {
          "output_type": "stream",
          "name": "stdout",
          "text": [
            "<__main__.car object at 0x7e4bd8bb94b0>\n"
          ]
        }
      ],
      "source": [
        "class car:\n",
        "  pass\n",
        "\n",
        "obj1=car()\n",
        "print(obj1)\n"
      ]
    },
    {
      "cell_type": "code",
      "source": [
        "class car:  #class contructor\n",
        "  def __init__(self,name,color,milage):\n",
        "    self.name = name        #car attributes\n",
        "    self.color = color\n",
        "    self.mileage = milage\n",
        "obj1 = car(\"BMW\",\"Red\",\"1000\") #Object name\n",
        "obj2 = car(\"Toyota\",\"Blue\", 1200)\n",
        "print(obj1.name)\n",
        "print(obj1.color)\n",
        "print(obj1.mileage)\n",
        "\n",
        "print(obj2.mileage)"
      ],
      "metadata": {
        "colab": {
          "base_uri": "https://localhost:8080/"
        },
        "id": "RsBSQfqQkKZA",
        "outputId": "82cce69d-b005-491d-cdca-23363b7b914f"
      },
      "execution_count": 15,
      "outputs": [
        {
          "output_type": "stream",
          "name": "stdout",
          "text": [
            "BMW\n",
            "Red\n",
            "1000\n",
            "1200\n"
          ]
        }
      ]
    },
    {
      "cell_type": "markdown",
      "source": [
        "python that prints your student information with the following"
      ],
      "metadata": {
        "id": "J_GaazprqTG5"
      }
    },
    {
      "cell_type": "code",
      "source": [
        "class student:\n",
        "  def __init__(self,name,age,course,section):\n",
        "    self.name = name\n",
        "    self.age = age\n",
        "    self.course = course\n",
        "    self.section = section\n",
        "obj1 = student(\"Margarette\",\"18\",\"BSCPE\",\"CpE12S6\")\n",
        "print(obj1.name)\n",
        "print(obj1.age)\n",
        "print(obj1.course)\n",
        "print(obj1.section)\n",
        "\n",
        "\n"
      ],
      "metadata": {
        "colab": {
          "base_uri": "https://localhost:8080/"
        },
        "id": "UNo4_3i9rXbg",
        "outputId": "708fdb6a-798b-443e-f67e-a939710d04ca"
      },
      "execution_count": 19,
      "outputs": [
        {
          "output_type": "stream",
          "name": "stdout",
          "text": [
            "Margarette\n",
            "18\n",
            "BSCPE\n",
            "CpE12S6\n"
          ]
        }
      ]
    }
  ]
}