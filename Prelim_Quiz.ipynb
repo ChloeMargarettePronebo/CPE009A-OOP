{
  "nbformat": 4,
  "nbformat_minor": 0,
  "metadata": {
    "colab": {
      "provenance": [],
      "authorship_tag": "ABX9TyP55M7afG7+FKRFY4lI+KqH",
      "include_colab_link": true
    },
    "kernelspec": {
      "name": "python3",
      "display_name": "Python 3"
    },
    "language_info": {
      "name": "python"
    }
  },
  "cells": [
    {
      "cell_type": "markdown",
      "metadata": {
        "id": "view-in-github",
        "colab_type": "text"
      },
      "source": [
        "<a href=\"https://colab.research.google.com/github/klowimargarette/CPE009A-OOP/blob/main/Prelim_Quiz.ipynb\" target=\"_parent\"><img src=\"https://colab.research.google.com/assets/colab-badge.svg\" alt=\"Open In Colab\"/></a>"
      ]
    },
    {
      "cell_type": "markdown",
      "source": [
        "Prelim Quiz"
      ],
      "metadata": {
        "id": "v7ZGmj2yduEq"
      }
    },
    {
      "cell_type": "code",
      "execution_count": 16,
      "metadata": {
        "colab": {
          "base_uri": "https://localhost:8080/"
        },
        "id": "0qXLAiC_ObYd",
        "outputId": "9bfe054f-58b4-4115-e856-f06d62325d3c"
      },
      "outputs": [
        {
          "output_type": "stream",
          "name": "stdout",
          "text": [
            "210\n",
            "average\n"
          ]
        }
      ],
      "source": [
        "n=20\n",
        "totalnumbers=n\n",
        "num_sum=0\n",
        "average=0\n",
        "\n",
        "while (n>=0):\n",
        "   num_sum+=n\n",
        "   n-=1\n",
        "\n",
        "print (num_sum)\n",
        "\n",
        "average=num_sum/totalnumbers\n",
        "\n",
        "print (\"average\")\n",
        "\n"
      ]
    }
  ]
}