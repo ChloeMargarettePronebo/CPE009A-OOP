{
  "nbformat": 4,
  "nbformat_minor": 0,
  "metadata": {
    "colab": {
      "provenance": [],
      "authorship_tag": "ABX9TyOfkwm4t4aG0LxQ6/qydhXA",
      "include_colab_link": true
    },
    "kernelspec": {
      "name": "python3",
      "display_name": "Python 3"
    },
    "language_info": {
      "name": "python"
    }
  },
  "cells": [
    {
      "cell_type": "markdown",
      "metadata": {
        "id": "view-in-github",
        "colab_type": "text"
      },
      "source": [
        "<a href=\"https://colab.research.google.com/github/klowimargarette/CPE009A-OOP/blob/main/Prelim_Quiz.ipynb\" target=\"_parent\"><img src=\"https://colab.research.google.com/assets/colab-badge.svg\" alt=\"Open In Colab\"/></a>"
      ]
    },
    {
      "cell_type": "markdown",
      "source": [
        "Prelim Quiz"
      ],
      "metadata": {
        "id": "v7ZGmj2yduEq"
      }
    },
    {
      "cell_type": "code",
      "execution_count": 3,
      "metadata": {
        "colab": {
          "base_uri": "https://localhost:8080/"
        },
        "id": "0qXLAiC_ObYd",
        "outputId": "4544b8c9-f95d-4ce4-ac8e-68540ba048a2"
      },
      "outputs": [
        {
          "output_type": "stream",
          "name": "stdout",
          "text": [
            "Sum: 210\n",
            "Average: 10.5\n"
          ]
        }
      ],
      "source": [
        "n=20\n",
        "totalnumbers=n\n",
        "total_sum = 0\n",
        "average=0\n",
        "\n",
        "while (n>=0):\n",
        "   total_sum +=n\n",
        "   n-=1\n",
        "\n",
        "print(\"Sum:\",total_sum)\n",
        "average=total_sum/totalnumbers\n",
        "print(\"Average:\",average)\n",
        "\n"
      ]
    }
  ]
}