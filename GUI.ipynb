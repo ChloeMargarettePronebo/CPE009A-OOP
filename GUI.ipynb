{
  "nbformat": 4,
  "nbformat_minor": 0,
  "metadata": {
    "colab": {
      "provenance": [],
      "authorship_tag": "ABX9TyMU15y8K33jicOpTnIi+OJT",
      "include_colab_link": true
    },
    "kernelspec": {
      "name": "python3",
      "display_name": "Python 3"
    },
    "language_info": {
      "name": "python"
    }
  },
  "cells": [
    {
      "cell_type": "markdown",
      "metadata": {
        "id": "view-in-github",
        "colab_type": "text"
      },
      "source": [
        "<a href=\"https://colab.research.google.com/github/ChloeMargarettePronebo/CPE009A-OOP/blob/main/GUI.ipynb\" target=\"_parent\"><img src=\"https://colab.research.google.com/assets/colab-badge.svg\" alt=\"Open In Colab\"/></a>"
      ]
    },
    {
      "cell_type": "markdown",
      "source": [
        "# Basic GUI Application\n",
        "from tkinter import *\n",
        "\n",
        "class MyWindow:\n",
        "    def __init__(self, window):\n",
        "        self.lbl = Label(window, text=\"Simple Calculator\")\n",
        "        self.lbl.place(x=75, y=75)\n",
        "\n",
        "        self.lbl1 = Label(window, text=\"Number 1:\", fg=\"blue\")\n",
        "        self.lbl1.place(x=80, y=100)\n",
        "        self.txt1 = Entry(window, bd=2)\n",
        "        self.txt1.place(x=150, y=100)\n",
        "\n",
        "        self.lbl2 = Label(window, text=\"Number 2:\", fg=\"orange\")\n",
        "        self.lbl2.place(x=80, y=150)\n",
        "        self.txt2 = Entry(window, bd=5)\n",
        "        self.txt2.place(x=150, y=150)\n",
        "\n",
        "        self.btn1 = Button(window, text=\"Add\", command=self.add)\n",
        "        self.btn1.place(x=80, y=200)\n",
        "        \n",
        "        self.btn2 = Button(window, text=\"Subtract\")\n",
        "        self.btn2.place(x=140, y=200)\n",
        "        self.btn2.bind('<Button-1>', self.sub)\n",
        "        \n",
        "        self.btn3 = Button(window, text=\"Multiply\")\n",
        "        self.btn3.place(x=220, y=200)\n",
        "        self.btn3.bind('<Button-1>', self.mul)\n",
        "        \n",
        "        self.btn4 = Button(window, text=\"Divide\", command=self.div)\n",
        "        self.btn4.place(x=300, y=200)\n",
        "        \n",
        "        self.txt3 = Entry(window)\n",
        "        self.txt3.place(x=100, y=250)\n",
        "\n",
        "        self.lbl3 = Label(window, text=\"Gender\", fg=\"blue\")\n",
        "        self.lbl3.place(x=100, y=300)\n",
        "        \n",
        "        self.var = IntVar()\n",
        "        self.r1 = Radiobutton(window, text=\"Male\", variable=self.var, value=1, command=self.sel)\n",
        "        self.r1.place(x=100, y=320)\n",
        "        self.r2 = Radiobutton(window, text=\"Female\", variable=self.var, value=2, command=self.sel)\n",
        "        self.r2.place(x=150, y=320)\n",
        "\n",
        "        self.lbl4 = Label(window, text=\"Choose all fruits that you eat\")\n",
        "        self.lbl4.place(x=100, y=350)\n",
        "        \n",
        "        self.chkbox1 = Checkbutton(window, text=\"Apple\")\n",
        "        self.chkbox1.place(x=100, y=370)\n",
        "        self.chkbox2 = Checkbutton(window, text=\"Banana\")\n",
        "        self.chkbox2.place(x=150, y=370)\n",
        "        self.chkbox3 = Checkbutton(window, text=\"Orange\")\n",
        "        self.chkbox3.place(x=200, y=370)\n",
        "\n",
        "    def add(self):\n",
        "        self.txt3.delete(0, 'end')\n",
        "        num1 = int(self.txt1.get())\n",
        "        num2 = int(self.txt2.get())\n",
        "        result = num1 + num2\n",
        "        self.txt3.insert(END, str(result))\n",
        "\n",
        "    def sub(self, event):\n",
        "        self.txt3.delete(0, 'end')\n",
        "        num1 = int(self.txt1.get())\n",
        "        num2 = int(self.txt2.get())\n",
        "        result = num1 - num2\n",
        "        self.txt3.insert(END, str(result))\n",
        "\n",
        "    def mul(self, event):\n",
        "        self.txt3.delete(0, 'end')\n",
        "        num1 = int(self.txt1.get())\n",
        "        num2 = int(self.txt2.get())\n",
        "        result = num1 * num2\n",
        "        self.txt3.insert(END, str(result))\n",
        "\n",
        "    def div(self):\n",
        "        self.txt3.delete(0, 'end')\n",
        "        num1 = int(self.txt1.get())\n",
        "        num2 = int(self.txt2.get())\n",
        "        result = num1 / num2\n",
        "        self.txt3.insert(END, str(result))\n",
        "\n",
        "    def sel(self):\n",
        "        selection = \"You selected this option: \" + str(self.var.get())\n",
        "        self.lbl4.config(text=selection)\n",
        "\n",
        "window = Tk()\n",
        "mywin = MyWindow(window)\n",
        "window.geometry(\"500x400+10+20\")\n",
        "window.title(\"Python Project\")\n",
        "window.mainloop()"
      ],
      "metadata": {
        "id": "kZ96CocphGe8"
      }
    }
  ]
}