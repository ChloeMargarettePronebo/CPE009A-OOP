{
  "nbformat": 4,
  "nbformat_minor": 0,
  "metadata": {
    "colab": {
      "provenance": [],
      "authorship_tag": "ABX9TyM2tTHdMUAV43eKxyMcRcjB",
      "include_colab_link": true
    },
    "kernelspec": {
      "name": "python3",
      "display_name": "Python 3"
    },
    "language_info": {
      "name": "python"
    }
  },
  "cells": [
    {
      "cell_type": "markdown",
      "metadata": {
        "id": "view-in-github",
        "colab_type": "text"
      },
      "source": [
        "<a href=\"https://colab.research.google.com/github/klowimargarette/CPE009A-OOP/blob/main/demo_3.ipynb\" target=\"_parent\"><img src=\"https://colab.research.google.com/assets/colab-badge.svg\" alt=\"Open In Colab\"/></a>"
      ]
    },
    {
      "cell_type": "markdown",
      "source": [
        "if statement\n",
        "<declaration of variables>\n",
        "if condition:\n",
        "block of statements"
      ],
      "metadata": {
        "id": "surOV7O8QoIN"
      }
    },
    {
      "cell_type": "code",
      "source": [
        "a = 12\n",
        "b = 100\n",
        "if b > a:\n",
        "  print(\"b is greather than a\")"
      ],
      "metadata": {
        "colab": {
          "base_uri": "https://localhost:8080/"
        },
        "id": "L4VkS4DvRUBc",
        "outputId": "8ae8973c-8385-4b1c-953f-1ee4fb132537"
      },
      "execution_count": 1,
      "outputs": [
        {
          "output_type": "stream",
          "name": "stdout",
          "text": [
            "b is greather than a\n"
          ]
        }
      ]
    },
    {
      "cell_type": "markdown",
      "source": [
        "Elif Statements\n",
        "<declaration of variables>\n",
        "if condition1:\n",
        "block of statements\n",
        "elif condition2:\n",
        "block of statements"
      ],
      "metadata": {
        "id": "PguTlKxhRipk"
      }
    },
    {
      "cell_type": "code",
      "source": [
        "a = 12\n",
        "b = 12\n",
        "if b > a:\n",
        "  print(\"b is greather than a\")\n",
        "elif a==b:\n",
        "    print(\"a and b are equal\")\n"
      ],
      "metadata": {
        "colab": {
          "base_uri": "https://localhost:8080/"
        },
        "id": "DF4dJK4gR2d1",
        "outputId": "dbc728b2-338f-4985-9677-dfbdc63041cf"
      },
      "execution_count": 7,
      "outputs": [
        {
          "output_type": "stream",
          "name": "stdout",
          "text": [
            "a and b are equal\n"
          ]
        }
      ]
    },
    {
      "cell_type": "markdown",
      "source": [
        "else Statement"
      ],
      "metadata": {
        "id": "F-MXNmIaSLel"
      }
    },
    {
      "cell_type": "code",
      "source": [
        "a = 200\n",
        "b= 33\n",
        "if b>a:\n",
        "  print(\"b is greater than a\")\n",
        "elif a==b:\n",
        "  print(\"a and b are equal\")\n",
        "else:\n",
        "  print(\"a is greather than b\")"
      ],
      "metadata": {
        "colab": {
          "base_uri": "https://localhost:8080/"
        },
        "id": "gNkDsvN1SOCM",
        "outputId": "8398f7e4-b465-4212-ecf6-193367c6a82a"
      },
      "execution_count": 6,
      "outputs": [
        {
          "output_type": "stream",
          "name": "stdout",
          "text": [
            "a is greather than b\n"
          ]
        }
      ]
    },
    {
      "cell_type": "markdown",
      "source": [
        "short hand if statement\n",
        "IF YOU ONLY HAVE ONE STATEMENT to execute, you can put it on the same line as the if statement."
      ],
      "metadata": {
        "id": "a78LpLgfStz8"
      }
    },
    {
      "cell_type": "code",
      "source": [
        "if a > b:print(\"a is greater than b\")"
      ],
      "metadata": {
        "id": "CScXiJrxSzRE"
      },
      "execution_count": 4,
      "outputs": []
    },
    {
      "cell_type": "markdown",
      "source": [
        "Short hand if Else Statement\n",
        "if you have only one staremnt to execute, one for if, and one for else, you can put it all on same line:\n"
      ],
      "metadata": {
        "id": "FAtHp4cUS0vU"
      }
    },
    {
      "cell_type": "code",
      "source": [
        "a = 2\n",
        "b = 330\n",
        "print(\"A\")if a >b else print(\"B\")"
      ],
      "metadata": {
        "colab": {
          "base_uri": "https://localhost:8080/"
        },
        "id": "L5ARMahUTHE0",
        "outputId": "488d949c-a4fc-49c8-fb34-60cdb88bb8ac"
      },
      "execution_count": 5,
      "outputs": [
        {
          "output_type": "stream",
          "name": "stdout",
          "text": [
            "B\n"
          ]
        }
      ]
    }
  ]
}