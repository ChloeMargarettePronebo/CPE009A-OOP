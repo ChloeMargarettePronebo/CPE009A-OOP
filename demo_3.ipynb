{
  "nbformat": 4,
  "nbformat_minor": 0,
  "metadata": {
    "colab": {
      "provenance": [],
      "authorship_tag": "ABX9TyMMO+muzf6Cv2R+IN70cFM1",
      "include_colab_link": true
    },
    "kernelspec": {
      "name": "python3",
      "display_name": "Python 3"
    },
    "language_info": {
      "name": "python"
    }
  },
  "cells": [
    {
      "cell_type": "markdown",
      "metadata": {
        "id": "view-in-github",
        "colab_type": "text"
      },
      "source": [
        "<a href=\"https://colab.research.google.com/github/klowimargarette/CPE009A-OOP/blob/main/demo_3.ipynb\" target=\"_parent\"><img src=\"https://colab.research.google.com/assets/colab-badge.svg\" alt=\"Open In Colab\"/></a>"
      ]
    },
    {
      "cell_type": "markdown",
      "source": [
        "if statement\n",
        "<declaration of variables>\n",
        "if condition:\n",
        "block of statements"
      ],
      "metadata": {
        "id": "surOV7O8QoIN"
      }
    },
    {
      "cell_type": "code",
      "source": [
        "a = 12\n",
        "b = 100\n",
        "if b > a:\n",
        "  print(\"b is greather than a\")"
      ],
      "metadata": {
        "colab": {
          "base_uri": "https://localhost:8080/"
        },
        "id": "L4VkS4DvRUBc",
        "outputId": "8ae8973c-8385-4b1c-953f-1ee4fb132537"
      },
      "execution_count": 1,
      "outputs": [
        {
          "output_type": "stream",
          "name": "stdout",
          "text": [
            "b is greather than a\n"
          ]
        }
      ]
    },
    {
      "cell_type": "markdown",
      "source": [
        "Elif Statements\n",
        "<declaration of variables>\n",
        "if condition1:\n",
        "block of statements\n",
        "elif condition2:\n",
        "block of statements"
      ],
      "metadata": {
        "id": "PguTlKxhRipk"
      }
    },
    {
      "cell_type": "code",
      "source": [
        "a = 12\n",
        "b = 12\n",
        "if b > a:\n",
        "  print(\"b is greather than a\")\n",
        "elif a==b:\n",
        "    print(\"a and b are equal\")\n"
      ],
      "metadata": {
        "colab": {
          "base_uri": "https://localhost:8080/"
        },
        "id": "DF4dJK4gR2d1",
        "outputId": "dbc728b2-338f-4985-9677-dfbdc63041cf"
      },
      "execution_count": 7,
      "outputs": [
        {
          "output_type": "stream",
          "name": "stdout",
          "text": [
            "a and b are equal\n"
          ]
        }
      ]
    },
    {
      "cell_type": "markdown",
      "source": [
        "else Statement"
      ],
      "metadata": {
        "id": "F-MXNmIaSLel"
      }
    },
    {
      "cell_type": "code",
      "source": [
        "a = 200\n",
        "b= 33\n",
        "if b>a:\n",
        "  print(\"b is greater than a\")\n",
        "elif a==b:\n",
        "  print(\"a and b are equal\")\n",
        "else:\n",
        "  print(\"a is greather than b\")"
      ],
      "metadata": {
        "colab": {
          "base_uri": "https://localhost:8080/"
        },
        "id": "gNkDsvN1SOCM",
        "outputId": "8398f7e4-b465-4212-ecf6-193367c6a82a"
      },
      "execution_count": 6,
      "outputs": [
        {
          "output_type": "stream",
          "name": "stdout",
          "text": [
            "a is greather than b\n"
          ]
        }
      ]
    },
    {
      "cell_type": "markdown",
      "source": [
        "short hand if statement\n",
        "IF YOU ONLY HAVE ONE STATEMENT to execute, you can put it on the same line as the if statement."
      ],
      "metadata": {
        "id": "a78LpLgfStz8"
      }
    },
    {
      "cell_type": "code",
      "source": [
        "if a > b:print(\"a is greater than b\")"
      ],
      "metadata": {
        "id": "CScXiJrxSzRE"
      },
      "execution_count": 4,
      "outputs": []
    },
    {
      "cell_type": "markdown",
      "source": [
        "Short hand if Else Statement\n",
        "if you have only one staremnt to execute, one for if, and one for else, you can put it all on same line:\n"
      ],
      "metadata": {
        "id": "FAtHp4cUS0vU"
      }
    },
    {
      "cell_type": "code",
      "source": [
        "a = 2\n",
        "b = 330\n",
        "print(\"A\")if a >b else print(\"B\")"
      ],
      "metadata": {
        "colab": {
          "base_uri": "https://localhost:8080/"
        },
        "id": "L5ARMahUTHE0",
        "outputId": "488d949c-a4fc-49c8-fb34-60cdb88bb8ac"
      },
      "execution_count": 5,
      "outputs": [
        {
          "output_type": "stream",
          "name": "stdout",
          "text": [
            "B\n"
          ]
        }
      ]
    },
    {
      "cell_type": "markdown",
      "source": [
        "and-both conditions are true\n"
      ],
      "metadata": {
        "id": "kovLz-42UC2t"
      }
    },
    {
      "cell_type": "code",
      "source": [
        "a = 200\n",
        "b = 33\n",
        "c = 500\n",
        "if a > b and c > a > :\n",
        "  print(\"both conditions are true\")"
      ],
      "metadata": {
        "id": "wYJeQslbUN8k"
      },
      "execution_count": 9,
      "outputs": []
    },
    {
      "cell_type": "markdown",
      "source": [
        "or at least one of the conditions is true\n",
        "a = 200\n",
        "b = 33\n",
        "c = 500\n",
        "if a > b or a > c:"
      ],
      "metadata": {
        "id": "5mTO3SuPUrLd"
      }
    },
    {
      "cell_type": "code",
      "source": [
        "a = 200\n",
        "b = 33\n",
        "c = 500\n",
        "if a > b or a > c:\n",
        "   print(\"At least one of the condition is true\")"
      ],
      "metadata": {
        "colab": {
          "base_uri": "https://localhost:8080/"
        },
        "id": "Iy9WWqSfU4hd",
        "outputId": "86bf6714-1edb-4634-937b-e8478c764a9c"
      },
      "execution_count": 15,
      "outputs": [
        {
          "output_type": "stream",
          "name": "stdout",
          "text": [
            "At least one of the condition is true\n"
          ]
        }
      ]
    },
    {
      "cell_type": "markdown",
      "source": [
        "nested if..else statement\n"
      ],
      "metadata": {
        "id": "iCSMnaLhVUKF"
      }
    },
    {
      "cell_type": "code",
      "source": [
        "x = 41\n",
        "if x >10:\n",
        "   print(\"Above ten,\")\n",
        "if x > 20:\n",
        "  print(\"and also above 20!\")\n",
        "  if(x>30):\n",
        "    print(\"and also above 30\")\n",
        "if(x>40):\n",
        "    print (\"and also above 40\")\n",
        "if(x>40):\n",
        "     print (\"and also above 50\")\n",
        "else:\n",
        "     print(\"but not above 50.\")\n",
        "  else:\n",
        "     print(\"but not above 40.\")\n",
        "  else:\n",
        "    print(\"but not above 30.\")\n",
        "else:\n",
        "    print(\"but not above 20\")"
      ],
      "metadata": {
        "colab": {
          "base_uri": "https://localhost:8080/",
          "height": 140
        },
        "id": "aohyUTTCVWeu",
        "outputId": "f1f4aaa5-ccdd-44ba-fef6-5786e784d4d7"
      },
      "execution_count": 22,
      "outputs": [
        {
          "output_type": "error",
          "ename": "SyntaxError",
          "evalue": "invalid syntax (<ipython-input-22-cd248926ad4c>, line 12)",
          "traceback": [
            "\u001b[0;36m  File \u001b[0;32m\"<ipython-input-22-cd248926ad4c>\"\u001b[0;36m, line \u001b[0;32m12\u001b[0m\n\u001b[0;31m    else:\u001b[0m\n\u001b[0m    ^\u001b[0m\n\u001b[0;31mSyntaxError\u001b[0m\u001b[0;31m:\u001b[0m invalid syntax\n"
          ]
        }
      ]
    },
    {
      "cell_type": "markdown",
      "source": [
        "example 1\n",
        "write a program that determines if the input age is qualified to vote or not. the qualifying age is 18 years old and above."
      ],
      "metadata": {
        "id": "gmAzFQwPaxGd"
      }
    },
    {
      "cell_type": "code",
      "source": [
        " a = 18\n",
        "if (a > 18):\n",
        "   print (\"qualified\")\n",
        "else (a < 18):\n",
        "  print (\"not qualified\")"
      ],
      "metadata": {
        "colab": {
          "base_uri": "https://localhost:8080/",
          "height": 140
        },
        "id": "7siSBgqabSZU",
        "outputId": "e1b43c4f-1bc2-424b-848f-d137ad0d0d92"
      },
      "execution_count": 28,
      "outputs": [
        {
          "output_type": "error",
          "ename": "SyntaxError",
          "evalue": "expected ':' (<ipython-input-28-60fc8d63dbb9>, line 4)",
          "traceback": [
            "\u001b[0;36m  File \u001b[0;32m\"<ipython-input-28-60fc8d63dbb9>\"\u001b[0;36m, line \u001b[0;32m4\u001b[0m\n\u001b[0;31m    else (a < 18):\u001b[0m\n\u001b[0m         ^\u001b[0m\n\u001b[0;31mSyntaxError\u001b[0m\u001b[0;31m:\u001b[0m expected ':'\n"
          ]
        }
      ]
    }
  ]
}