{
  "nbformat": 4,
  "nbformat_minor": 0,
  "metadata": {
    "colab": {
      "provenance": [],
      "authorship_tag": "ABX9TyMrf7z/4U7cq3J/J1DgAq+1",
      "include_colab_link": true
    },
    "kernelspec": {
      "name": "python3",
      "display_name": "Python 3"
    },
    "language_info": {
      "name": "python"
    }
  },
  "cells": [
    {
      "cell_type": "markdown",
      "metadata": {
        "id": "view-in-github",
        "colab_type": "text"
      },
      "source": [
        "<a href=\"https://colab.research.google.com/github/klowimargarette/CPE009A-OOP/blob/main/demo_3.ipynb\" target=\"_parent\"><img src=\"https://colab.research.google.com/assets/colab-badge.svg\" alt=\"Open In Colab\"/></a>"
      ]
    },
    {
      "cell_type": "markdown",
      "source": [
        "if statement\n",
        "<declaration of variables>\n",
        "if condition:\n",
        "block of statements"
      ],
      "metadata": {
        "id": "surOV7O8QoIN"
      }
    },
    {
      "cell_type": "code",
      "source": [
        "a = 12\n",
        "b = 100\n",
        "if b > a:\n",
        "  print(\"b is greather than a\")"
      ],
      "metadata": {
        "colab": {
          "base_uri": "https://localhost:8080/"
        },
        "id": "L4VkS4DvRUBc",
        "outputId": "8ae8973c-8385-4b1c-953f-1ee4fb132537"
      },
      "execution_count": null,
      "outputs": [
        {
          "output_type": "stream",
          "name": "stdout",
          "text": [
            "b is greather than a\n"
          ]
        }
      ]
    },
    {
      "cell_type": "markdown",
      "source": [
        "Elif Statements\n",
        "<declaration of variables>\n",
        "if condition1:\n",
        "block of statements\n",
        "elif condition2:\n",
        "block of statements"
      ],
      "metadata": {
        "id": "PguTlKxhRipk"
      }
    },
    {
      "cell_type": "code",
      "source": [
        "a = 12\n",
        "b = 12\n",
        "if b > a:\n",
        "  print(\"b is greather than a\")\n",
        "elif a==b:\n",
        "    print(\"a and b are equal\")\n"
      ],
      "metadata": {
        "colab": {
          "base_uri": "https://localhost:8080/"
        },
        "id": "DF4dJK4gR2d1",
        "outputId": "dbc728b2-338f-4985-9677-dfbdc63041cf"
      },
      "execution_count": null,
      "outputs": [
        {
          "output_type": "stream",
          "name": "stdout",
          "text": [
            "a and b are equal\n"
          ]
        }
      ]
    },
    {
      "cell_type": "markdown",
      "source": [
        "else Statement"
      ],
      "metadata": {
        "id": "F-MXNmIaSLel"
      }
    },
    {
      "cell_type": "code",
      "source": [
        "a = 200\n",
        "b= 33\n",
        "if b>a:\n",
        "  print(\"b is greater than a\")\n",
        "elif a==b:\n",
        "  print(\"a and b are equal\")\n",
        "else:\n",
        "  print(\"a is greather than b\")"
      ],
      "metadata": {
        "colab": {
          "base_uri": "https://localhost:8080/"
        },
        "id": "gNkDsvN1SOCM",
        "outputId": "8398f7e4-b465-4212-ecf6-193367c6a82a"
      },
      "execution_count": null,
      "outputs": [
        {
          "output_type": "stream",
          "name": "stdout",
          "text": [
            "a is greather than b\n"
          ]
        }
      ]
    },
    {
      "cell_type": "markdown",
      "source": [
        "short hand if statement\n",
        "IF YOU ONLY HAVE ONE STATEMENT to execute, you can put it on the same line as the if statement."
      ],
      "metadata": {
        "id": "a78LpLgfStz8"
      }
    },
    {
      "cell_type": "code",
      "source": [
        "if a > b:print(\"a is greater than b\")"
      ],
      "metadata": {
        "id": "CScXiJrxSzRE"
      },
      "execution_count": null,
      "outputs": []
    },
    {
      "cell_type": "markdown",
      "source": [
        "Short hand if Else Statement\n",
        "if you have only one staremnt to execute, one for if, and one for else, you can put it all on same line:\n"
      ],
      "metadata": {
        "id": "FAtHp4cUS0vU"
      }
    },
    {
      "cell_type": "code",
      "source": [
        "a = 2\n",
        "b = 330\n",
        "print(\"A\")if a >b else print(\"B\")"
      ],
      "metadata": {
        "colab": {
          "base_uri": "https://localhost:8080/"
        },
        "id": "L5ARMahUTHE0",
        "outputId": "488d949c-a4fc-49c8-fb34-60cdb88bb8ac"
      },
      "execution_count": null,
      "outputs": [
        {
          "output_type": "stream",
          "name": "stdout",
          "text": [
            "B\n"
          ]
        }
      ]
    },
    {
      "cell_type": "markdown",
      "source": [
        "and-both conditions are true\n"
      ],
      "metadata": {
        "id": "kovLz-42UC2t"
      }
    },
    {
      "cell_type": "code",
      "source": [
        "a = 200\n",
        "b = 33\n",
        "c = 500\n",
        "if a > b and c > a > :\n",
        "  print(\"both conditions are true\")"
      ],
      "metadata": {
        "id": "wYJeQslbUN8k"
      },
      "execution_count": null,
      "outputs": []
    },
    {
      "cell_type": "markdown",
      "source": [
        "or at least one of the conditions is true\n",
        "a = 200\n",
        "b = 33\n",
        "c = 500\n",
        "if a > b or a > c:"
      ],
      "metadata": {
        "id": "5mTO3SuPUrLd"
      }
    },
    {
      "cell_type": "code",
      "source": [
        "a = 200\n",
        "b = 33\n",
        "c = 500\n",
        "if a > b or a > c:\n",
        "   print(\"At least one of the condition is true\")"
      ],
      "metadata": {
        "colab": {
          "base_uri": "https://localhost:8080/"
        },
        "id": "Iy9WWqSfU4hd",
        "outputId": "86bf6714-1edb-4634-937b-e8478c764a9c"
      },
      "execution_count": null,
      "outputs": [
        {
          "output_type": "stream",
          "name": "stdout",
          "text": [
            "At least one of the condition is true\n"
          ]
        }
      ]
    },
    {
      "cell_type": "markdown",
      "source": [
        "nested if..else statement\n"
      ],
      "metadata": {
        "id": "iCSMnaLhVUKF"
      }
    },
    {
      "cell_type": "code",
      "source": [
        "x = 41\n",
        "if x >10:\n",
        "   print(\"Above ten,\")\n",
        "if x > 20:\n",
        "  print(\"and also above 20!\")\n",
        "  if(x>30):\n",
        "    print(\"and also above 30\")\n",
        "if(x>40):\n",
        "    print (\"and also above 40\")\n",
        "if(x>40):\n",
        "     print (\"and also above 50\")\n",
        "else:\n",
        "     print(\"but not above 50.\")\n",
        "else:\n",
        "    print(\"but not above 40.\")\n",
        "    else:\n",
        "      print(\"but not above 30.\")\n",
        "      else:\n",
        "        print(\"but not above 20.\")\n"
      ],
      "metadata": {
        "colab": {
          "base_uri": "https://localhost:8080/",
          "height": 140
        },
        "id": "aohyUTTCVWeu",
        "outputId": "48c1cdf0-404f-4166-d7cb-26dbe8441715"
      },
      "execution_count": 31,
      "outputs": [
        {
          "output_type": "error",
          "ename": "SyntaxError",
          "evalue": "invalid syntax (<ipython-input-31-9e2761ff24dc>, line 14)",
          "traceback": [
            "\u001b[0;36m  File \u001b[0;32m\"<ipython-input-31-9e2761ff24dc>\"\u001b[0;36m, line \u001b[0;32m14\u001b[0m\n\u001b[0;31m    else:\u001b[0m\n\u001b[0m    ^\u001b[0m\n\u001b[0;31mSyntaxError\u001b[0m\u001b[0;31m:\u001b[0m invalid syntax\n"
          ]
        }
      ]
    },
    {
      "cell_type": "markdown",
      "source": [
        "example 1\n",
        "write a program that determines if the input age is qualified to vote or not. the qualifying age is 18 years old and above."
      ],
      "metadata": {
        "id": "gmAzFQwPaxGd"
      }
    },
    {
      "cell_type": "code",
      "source": [
        " age = int(input(\"Enter your age: \"))\n",
        "if age >= 18:\n",
        "  print(\"You are qualfied to vote!\")\n",
        "else:\n",
        "     print(\"You are not yet qualified to vote.\")\n"
      ],
      "metadata": {
        "colab": {
          "base_uri": "https://localhost:8080/"
        },
        "id": "7siSBgqabSZU",
        "outputId": "e7fefbf0-44af-4bdc-a06b-3d280f5a9c1f"
      },
      "execution_count": 33,
      "outputs": [
        {
          "output_type": "stream",
          "name": "stdout",
          "text": [
            "Enter your age: 21\n",
            "You are qualfied to vote!\n"
          ]
        }
      ]
    },
    {
      "cell_type": "markdown",
      "source": [
        "Example 2\n",
        "Write a program that determines if the input number is positive, negative, or zero."
      ],
      "metadata": {
        "id": "Hw1F30utIwcD"
      }
    },
    {
      "cell_type": "code",
      "source": [
        "num = int(input(\"Enter a number: \"))\n",
        "if num > 0:\n",
        "  print(\"Positive number\")\n",
        "elif num == 0:\n",
        "    print(\"Zero\")\n",
        "else:\n",
        "      print(\"Negative number\")"
      ],
      "metadata": {
        "id": "_gOEJDsLJKYs",
        "outputId": "2ac4840c-391c-4775-8fa5-38a3ab8280e6",
        "colab": {
          "base_uri": "https://localhost:8080/"
        }
      },
      "execution_count": 40,
      "outputs": [
        {
          "output_type": "stream",
          "name": "stdout",
          "text": [
            "Enter a number: -3\n",
            "Negative number\n"
          ]
        }
      ]
    },
    {
      "cell_type": "markdown",
      "source": [
        "Example 3 Write a program to determube if the grades are passed, remedial, or failed."
      ],
      "metadata": {
        "id": "RyZ3n9f2Nd4Q"
      }
    },
    {
      "cell_type": "code",
      "source": [
        "num = int(input(\"Enter your grade: \"))\n",
        "if num >= 60:\n",
        "  print(\"Passed\")\n",
        "elif num >=50 and num <=59:\n",
        "  print(\"Remedial\")\n",
        "else:\n",
        "  print(\"Failed\")"
      ],
      "metadata": {
        "id": "YtJFtgT_NsdC",
        "outputId": "1380d627-093e-45d5-c568-37f022ecd03e",
        "colab": {
          "base_uri": "https://localhost:8080/"
        }
      },
      "execution_count": 47,
      "outputs": [
        {
          "output_type": "stream",
          "name": "stdout",
          "text": [
            "Enter your grade: 49\n",
            "Failed\n"
          ]
        }
      ]
    }
  ]
}