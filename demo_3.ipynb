{
  "nbformat": 4,
  "nbformat_minor": 0,
  "metadata": {
    "colab": {
      "provenance": [],
      "authorship_tag": "ABX9TyOwi6zFLJxbykI+q45CZAM6",
      "include_colab_link": true
    },
    "kernelspec": {
      "name": "python3",
      "display_name": "Python 3"
    },
    "language_info": {
      "name": "python"
    }
  },
  "cells": [
    {
      "cell_type": "markdown",
      "metadata": {
        "id": "view-in-github",
        "colab_type": "text"
      },
      "source": [
        "<a href=\"https://colab.research.google.com/github/klowimargarette/CPE009A-OOP/blob/main/demo_3.ipynb\" target=\"_parent\"><img src=\"https://colab.research.google.com/assets/colab-badge.svg\" alt=\"Open In Colab\"/></a>"
      ]
    },
    {
      "cell_type": "markdown",
      "source": [
        "\n",
        "if statement if condition: block of statements"
      ],
      "metadata": {
        "id": "iiGnNBp0RHp_"
      }
    },
    {
      "cell_type": "code",
      "source": [
        "a = 12\n",
        "b = 100\n",
        "if b > a:\n",
        "  print(\"b is greather than a\")"
      ],
      "metadata": {
        "colab": {
          "base_uri": "https://localhost:8080/"
        },
        "id": "rDCnSg8JRLLb",
        "outputId": "5d1b6dea-6d23-4d01-9c60-0b8bb4c7aa7e"
      },
      "execution_count": 1,
      "outputs": [
        {
          "output_type": "stream",
          "name": "stdout",
          "text": [
            "b is greather than a\n"
          ]
        }
      ]
    },
    {
      "cell_type": "markdown",
      "source": [
        "Elif Statements if condition1: block of statements elif condition2: block of statements"
      ],
      "metadata": {
        "id": "pkSASfPhRQkk"
      }
    },
    {
      "cell_type": "code",
      "source": [
        "a = 12\n",
        "b = 12\n",
        "if b > a:\n",
        "  print(\"b is greather than a\")\n",
        "elif a==b:\n",
        "    print(\"a and b are equal\")"
      ],
      "metadata": {
        "colab": {
          "base_uri": "https://localhost:8080/"
        },
        "id": "9pwP0iOxRRT0",
        "outputId": "31d31a6e-a08a-4638-ebcf-290e6431a5c3"
      },
      "execution_count": 2,
      "outputs": [
        {
          "output_type": "stream",
          "name": "stdout",
          "text": [
            "a and b are equal\n"
          ]
        }
      ]
    },
    {
      "cell_type": "markdown",
      "source": [
        "else Statement"
      ],
      "metadata": {
        "id": "YH4AvEtRRU0s"
      }
    },
    {
      "cell_type": "code",
      "source": [
        "a = 200\n",
        "b= 33\n",
        "if b>a:\n",
        "  print(\"b is greater than a\")\n",
        "elif a==b:\n",
        "  print(\"a and b are equal\")\n",
        "else:\n",
        "  print(\"a is greather than b\")"
      ],
      "metadata": {
        "colab": {
          "base_uri": "https://localhost:8080/"
        },
        "id": "bGBqvoLURXpf",
        "outputId": "22478aee-c29b-40bb-a6da-49753a54d5df"
      },
      "execution_count": 3,
      "outputs": [
        {
          "output_type": "stream",
          "name": "stdout",
          "text": [
            "a is greather than b\n"
          ]
        }
      ]
    },
    {
      "cell_type": "markdown",
      "source": [
        "short hand if statement IF YOU ONLY HAVE ONE STATEMENT to execute, you can put it on the same line as the if statement."
      ],
      "metadata": {
        "id": "u_heByJnRg0S"
      }
    },
    {
      "cell_type": "code",
      "source": [
        "if a > b:print(\"a is greater than b\")"
      ],
      "metadata": {
        "id": "mxLnnucoRhwT"
      },
      "execution_count": null,
      "outputs": []
    },
    {
      "cell_type": "markdown",
      "source": [
        "Short hand if Else Statement if you have only one staremnt to execute, one for if, and one for else, you can put it all on same line:"
      ],
      "metadata": {
        "id": "Dwh3zGtDRkHx"
      }
    },
    {
      "cell_type": "code",
      "source": [
        "a = 2\n",
        "b = 330\n",
        "print(\"A\")if a >b else print(\"B\")"
      ],
      "metadata": {
        "colab": {
          "base_uri": "https://localhost:8080/"
        },
        "id": "fRyGH0K3RoqO",
        "outputId": "b11242ae-a1fe-4b1d-821d-ccf26c012e9d"
      },
      "execution_count": 4,
      "outputs": [
        {
          "output_type": "stream",
          "name": "stdout",
          "text": [
            "B\n"
          ]
        }
      ]
    },
    {
      "cell_type": "markdown",
      "source": [
        "and-both conditions are true"
      ],
      "metadata": {
        "id": "NIqroLvERrjk"
      }
    },
    {
      "cell_type": "code",
      "source": [
        "a = 200\n",
        "b = 33\n",
        "c = 500\n",
        "if a > b or a > c:\n",
        "   print(\"At least one of the condition is true\")"
      ],
      "metadata": {
        "colab": {
          "base_uri": "https://localhost:8080/"
        },
        "id": "U4kLqOijRsl_",
        "outputId": "a834251a-7941-49d5-bca6-a31d26133459"
      },
      "execution_count": 8,
      "outputs": [
        {
          "output_type": "stream",
          "name": "stdout",
          "text": [
            "At least one of the condition is true\n"
          ]
        }
      ]
    },
    {
      "cell_type": "markdown",
      "source": [
        "or at least one of the conditions is true a = 200 b = 33 c = 500 if a > b or a > c:"
      ],
      "metadata": {
        "id": "IbDiwWH0Rv5g"
      }
    },
    {
      "cell_type": "code",
      "source": [
        "a = 200\n",
        "b = 33\n",
        "c = 500\n",
        "if a > b or a > c:\n",
        "   print(\"At least one of the condition is true\")"
      ],
      "metadata": {
        "colab": {
          "base_uri": "https://localhost:8080/"
        },
        "id": "Gj8AUpsURyyW",
        "outputId": "d7e13319-f7f6-48d7-b5c0-c33ab6633070"
      },
      "execution_count": 9,
      "outputs": [
        {
          "output_type": "stream",
          "name": "stdout",
          "text": [
            "At least one of the condition is true\n"
          ]
        }
      ]
    },
    {
      "cell_type": "markdown",
      "source": [
        "nested if..else statement"
      ],
      "metadata": {
        "id": "-U1hR8ueSQP_"
      }
    },
    {
      "cell_type": "code",
      "source": [
        "x = 41\n",
        "if x >10:\n",
        "   print(\"Above ten,\")\n",
        "if x > 20:\n",
        "  print(\"and also above 20!\")\n",
        "  if(x>30):\n",
        "    print(\"and also above 30\")\n",
        "if(x>40):\n",
        "    print (\"and also above 40\")\n",
        "if(x>40):\n",
        "     print (\"and also above 50\")\n",
        "else:\n",
        "     print(\"but not above 50.\")\n",
        "else:\n",
        "print(\"but not above 40.\")\n",
        " else:\n",
        " print(\"but not above 30.\")\n",
        "else:\n",
        "print(\"but not above 20.\")\n"
      ],
      "metadata": {
        "colab": {
          "base_uri": "https://localhost:8080/",
          "height": 140
        },
        "id": "9fb2-j5DSTlb",
        "outputId": "f1d5de9e-7093-43e6-bc2c-8ad29fd4f0c1"
      },
      "execution_count": 11,
      "outputs": [
        {
          "output_type": "error",
          "ename": "IndentationError",
          "evalue": "unindent does not match any outer indentation level (<tokenize>, line 14)",
          "traceback": [
            "\u001b[0;36m  File \u001b[0;32m\"<tokenize>\"\u001b[0;36m, line \u001b[0;32m14\u001b[0m\n\u001b[0;31m    else:\u001b[0m\n\u001b[0m    ^\u001b[0m\n\u001b[0;31mIndentationError\u001b[0m\u001b[0;31m:\u001b[0m unindent does not match any outer indentation level\n"
          ]
        }
      ]
    },
    {
      "cell_type": "markdown",
      "source": [
        "**Example 1**"
      ],
      "metadata": {
        "id": "8_eKbr6nTBT7"
      }
    },
    {
      "cell_type": "markdown",
      "source": [
        "Write a program that determines if the input age is qualified to vote or not. the qualifying age is 18 years old and above."
      ],
      "metadata": {
        "id": "cga2Kr29TD3D"
      }
    },
    {
      "cell_type": "code",
      "source": [
        "age = int(input(\"Enter your age: \"))\n",
        "if age >= 18:\n",
        "  print(\"You are qualfied to vote!\")\n",
        "else:\n",
        "     print(\"You are not yet qualified to vote.\")\n"
      ],
      "metadata": {
        "colab": {
          "base_uri": "https://localhost:8080/"
        },
        "id": "60XGXVf5TE_Z",
        "outputId": "e0b3f445-17ad-4126-cc5a-298bf5cc801b"
      },
      "execution_count": 12,
      "outputs": [
        {
          "output_type": "stream",
          "name": "stdout",
          "text": [
            "Enter your age: 21\n",
            "You are qualfied to vote!\n"
          ]
        }
      ]
    },
    {
      "cell_type": "markdown",
      "source": [
        "**Example 2**"
      ],
      "metadata": {
        "id": "csQe08a9TR3w"
      }
    },
    {
      "cell_type": "markdown",
      "source": [
        "Write a program that determines if the input number is positive, negative, or zero."
      ],
      "metadata": {
        "id": "o61f1Z9eTXvQ"
      }
    },
    {
      "cell_type": "code",
      "source": [
        "num = int(input(\"Enter a number: \"))\n",
        "if num > 0:\n",
        "  print(\"Positive number\")\n",
        "elif num == 0:\n",
        "    print(\"Zero\")\n",
        "else:\n",
        "      print(\"Negative number\")"
      ],
      "metadata": {
        "colab": {
          "base_uri": "https://localhost:8080/"
        },
        "id": "vo5U99pATXIe",
        "outputId": "de6355d8-800b-43f1-e20c-6ead02e9c42f"
      },
      "execution_count": 13,
      "outputs": [
        {
          "output_type": "stream",
          "name": "stdout",
          "text": [
            "Enter a number: -3\n",
            "Negative number\n"
          ]
        }
      ]
    },
    {
      "cell_type": "markdown",
      "source": [
        "**Example 3**"
      ],
      "metadata": {
        "id": "kLoJKLq9TgG1"
      }
    },
    {
      "cell_type": "markdown",
      "source": [
        " Write a program to determube if the grades are passed, remedial, or failed."
      ],
      "metadata": {
        "id": "7KqIKVkITikx"
      }
    },
    {
      "cell_type": "code",
      "source": [
        "num = int(input(\"Enter your grade: \"))\n",
        "if num >= 60:\n",
        "  print(\"Passed\")\n",
        "elif num >=50 and num <=59:\n",
        "  print(\"Remedial\")\n",
        "else:\n",
        "  print(\"Failed\")"
      ],
      "metadata": {
        "colab": {
          "base_uri": "https://localhost:8080/"
        },
        "id": "rE_9cZcpTk32",
        "outputId": "b66956ff-7d8c-49ec-b7ff-4fe6d6310e33"
      },
      "execution_count": 14,
      "outputs": [
        {
          "output_type": "stream",
          "name": "stdout",
          "text": [
            "Enter your grade: 49\n",
            "Failed\n"
          ]
        }
      ]
    }
  ]
}