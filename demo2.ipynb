{
  "nbformat": 4,
  "nbformat_minor": 0,
  "metadata": {
    "colab": {
      "provenance": [],
      "authorship_tag": "ABX9TyPqxI/wf/Kk+9QaOPQEfAuc",
      "include_colab_link": true
    },
    "kernelspec": {
      "name": "python3",
      "display_name": "Python 3"
    },
    "language_info": {
      "name": "python"
    }
  },
  "cells": [
    {
      "cell_type": "markdown",
      "metadata": {
        "id": "view-in-github",
        "colab_type": "text"
      },
      "source": [
        "<a href=\"https://colab.research.google.com/github/klowimargarette/CPE009A-OOP/blob/main/demo2.ipynb\" target=\"_parent\"><img src=\"https://colab.research.google.com/assets/colab-badge.svg\" alt=\"Open In Colab\"/></a>"
      ]
    },
    {
      "cell_type": "code",
      "execution_count": 2,
      "metadata": {
        "colab": {
          "base_uri": "https://localhost:8080/"
        },
        "id": "zUHE2MfAVtZ-",
        "outputId": "672adeba-bc7d-4b3d-abb2-0b81d65bbf09"
      },
      "outputs": [
        {
          "output_type": "stream",
          "name": "stdout",
          "text": [
            "150\n",
            "50.0\n"
          ]
        }
      ],
      "source": [
        "num1=50\n",
        "num2=50\n",
        "num3=50\n",
        "sum=num1+num2+num3\n",
        "average=sum/3\n",
        "print(sum)\n",
        "print(average)\n"
      ]
    },
    {
      "cell_type": "code",
      "source": [
        "print(\"Input three grades\")\n",
        "num1=input()\n",
        "num2=input()\n",
        "num3=input()\n",
        "average=(int(num1)+int(num2)+int(num3))/3\n",
        "print (average)\n"
      ],
      "metadata": {
        "colab": {
          "base_uri": "https://localhost:8080/"
        },
        "id": "Y76MpjPQWIBE",
        "outputId": "1529bda6-36e4-4aca-ce54-da04df1a1b35"
      },
      "execution_count": 3,
      "outputs": [
        {
          "output_type": "stream",
          "name": "stdout",
          "text": [
            "Input three grades\n",
            "90\n",
            "95\n",
            "85\n",
            "90.0\n"
          ]
        }
      ]
    },
    {
      "cell_type": "code",
      "source": [],
      "metadata": {
        "id": "xj0uResnW_9c"
      },
      "execution_count": null,
      "outputs": []
    }
  ]
}