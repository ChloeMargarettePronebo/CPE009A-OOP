{
  "nbformat": 4,
  "nbformat_minor": 0,
  "metadata": {
    "colab": {
      "provenance": [],
      "authorship_tag": "ABX9TyPqsGzN1i6qqz7yCnU3hJ5E",
      "include_colab_link": true
    },
    "kernelspec": {
      "name": "python3",
      "display_name": "Python 3"
    },
    "language_info": {
      "name": "python"
    }
  },
  "cells": [
    {
      "cell_type": "markdown",
      "metadata": {
        "id": "view-in-github",
        "colab_type": "text"
      },
      "source": [
        "<a href=\"https://colab.research.google.com/github/klowimargarette/CPE009A-OOP/blob/main/Application2.ipynb\" target=\"_parent\"><img src=\"https://colab.research.google.com/assets/colab-badge.svg\" alt=\"Open In Colab\"/></a>"
      ]
    },
    {
      "cell_type": "code",
      "execution_count": 15,
      "metadata": {
        "colab": {
          "base_uri": "https://localhost:8080/"
        },
        "id": "KJTLcPwufMWI",
        "outputId": "af0221d0-6779-4add-e8f5-cdefdb53f04a"
      },
      "outputs": [
        {
          "output_type": "stream",
          "name": "stdout",
          "text": [
            "The sides of a triangle is 3\n",
            "The sides of a square is 4\n",
            "The sides of a pentagon is 5\n",
            "The sides of a hexagon is 6\n",
            "The sides of a octagon is 8\n"
          ]
        }
      ],
      "source": [
        "class Shape:\n",
        "  def __init__(self, sides):\n",
        "    self.sides = sides\n",
        "\n",
        "  def display_sides(self):\n",
        "    return self.sides\n",
        "\n",
        "class Triangle(Shape):\n",
        "      def __init__(self):\n",
        "        super().__init__(3)\n",
        "\n",
        "class Square(Shape):\n",
        "      def __init__(self):\n",
        "        super().__init__(4)\n",
        "\n",
        "class Pentagon(Shape):\n",
        "      def __init__(self):\n",
        "        super().__init__(5)\n",
        "\n",
        "class Hexagon(Shape):\n",
        "      def __init__(self):\n",
        "        super().__init__(6)\n",
        "\n",
        "class Octagon(Shape):\n",
        "      def __init__(self):\n",
        "        super().__init__(8)\n",
        "\n",
        "triangle = Triangle()\n",
        "print(\"The sides of a triangle is\", triangle.display_sides())\n",
        "\n",
        "square = Square()\n",
        "print(\"The sides of a square is\", square.display_sides())\n",
        "\n",
        "pentagon = Pentagon()\n",
        "print(\"The sides of a pentagon is\", pentagon.display_sides())\n",
        "\n",
        "hexagon = Hexagon()\n",
        "print(\"The sides of a hexagon is\", hexagon.display_sides())\n",
        "\n",
        "octagon = Octagon()\n",
        "print(\"The sides of a octagon is\", octagon.display_sides())\n",
        "\n",
        "\n",
        "\n",
        "\n",
        "\n",
        "\n",
        "\n",
        ""
      ]
    }
  ]
}