{
  "nbformat": 4,
  "nbformat_minor": 0,
  "metadata": {
    "colab": {
      "provenance": [],
      "authorship_tag": "ABX9TyPMsv5NsHmx+PCwIiety+n4",
      "include_colab_link": true
    },
    "kernelspec": {
      "name": "python3",
      "display_name": "Python 3"
    },
    "language_info": {
      "name": "python"
    }
  },
  "cells": [
    {
      "cell_type": "markdown",
      "metadata": {
        "id": "view-in-github",
        "colab_type": "text"
      },
      "source": [
        "<a href=\"https://colab.research.google.com/github/klowimargarette/CPE009A-OOP/blob/main/Pronebo_chloe_Prelim_Exam.ipynb\" target=\"_parent\"><img src=\"https://colab.research.google.com/assets/colab-badge.svg\" alt=\"Open In Colab\"/></a>"
      ]
    },
    {
      "cell_type": "code",
      "source": [
        "fullname = input(\"Enter your fullname: \")\n",
        "age = input(\"Enter your age: \")\n",
        "print(\"Fullname and age: \"+ fullname+ \" \"+ \"and \"+ age)"
      ],
      "metadata": {
        "colab": {
          "base_uri": "https://localhost:8080/"
        },
        "id": "CTXaSgegvRlQ",
        "outputId": "f92d6ba0-6fad-400e-8f0b-72e414951f74"
      },
      "execution_count": 7,
      "outputs": [
        {
          "output_type": "stream",
          "name": "stdout",
          "text": [
            "Enter your fullname: Chloe Margarette Pronebo\n",
            "Enter your age: 18\n",
            "Fullname and age: Chloe Margarette Pronebo and 18\n"
          ]
        }
      ]
    }
  ]
}