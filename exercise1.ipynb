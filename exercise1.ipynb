{
  "nbformat": 4,
  "nbformat_minor": 0,
  "metadata": {
    "colab": {
      "provenance": [],
      "authorship_tag": "ABX9TyOLdEUTHBtoaMdUutGLXKGp",
      "include_colab_link": true
    },
    "kernelspec": {
      "name": "python3",
      "display_name": "Python 3"
    },
    "language_info": {
      "name": "python"
    }
  },
  "cells": [
    {
      "cell_type": "markdown",
      "metadata": {
        "id": "view-in-github",
        "colab_type": "text"
      },
      "source": [
        "<a href=\"https://colab.research.google.com/github/klowimargarette/CPE009A-OOP/blob/main/exercise1.ipynb\" target=\"_parent\"><img src=\"https://colab.research.google.com/assets/colab-badge.svg\" alt=\"Open In Colab\"/></a>"
      ]
    },
    {
      "cell_type": "markdown",
      "source": [
        "Algorithm to get the perimeter and area of a rectangle\n",
        "1. Start\n",
        "2. Input L as the value of length\n",
        "3. Input W as the value of width\n",
        "4. A=W*L\n",
        "5.Print A as the area of rectangle\n",
        "6.Stop"
      ],
      "metadata": {
        "id": "p9LonDEVbdGD"
      }
    },
    {
      "cell_type": "code",
      "source": [
        "print(\"Input the area of rectangle\")\n",
        "num1=input()\n",
        "num2=input()\n",
        "area=(int(length)*int(width))\n",
        "print (area)\n",
        "\n",
        "\n"
      ],
      "metadata": {
        "id": "xKDVbrRiggDM",
        "colab": {
          "base_uri": "https://localhost:8080/"
        },
        "outputId": "b11134d6-c900-47b8-cc5e-8f3f1111ed16"
      },
      "execution_count": 11,
      "outputs": [
        {
          "output_type": "stream",
          "name": "stdout",
          "text": [
            "Input the area of rectangle\n",
            "10\n",
            "20\n",
            "200\n"
          ]
        }
      ]
    }
  ]
}