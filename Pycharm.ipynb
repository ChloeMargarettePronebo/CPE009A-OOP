{
  "nbformat": 4,
  "nbformat_minor": 0,
  "metadata": {
    "colab": {
      "provenance": [],
      "authorship_tag": "ABX9TyP/zEKazM+KVIB2yvY06fYo",
      "include_colab_link": true
    },
    "kernelspec": {
      "name": "python3",
      "display_name": "Python 3"
    },
    "language_info": {
      "name": "python"
    }
  },
  "cells": [
    {
      "cell_type": "markdown",
      "metadata": {
        "id": "view-in-github",
        "colab_type": "text"
      },
      "source": [
        "<a href=\"https://colab.research.google.com/github/ChloeMargarettePronebo/CPE009A-OOP/blob/main/Pycharm.ipynb\" target=\"_parent\"><img src=\"https://colab.research.google.com/assets/colab-badge.svg\" alt=\"Open In Colab\"/></a>"
      ]
    },
    {
      "cell_type": "code",
      "execution_count": 1,
      "metadata": {
        "colab": {
          "base_uri": "https://localhost:8080/",
          "height": 211
        },
        "id": "FZbCSBzLbRF_",
        "outputId": "ab71afe3-2833-4fc2-e38b-a80b60739d34"
      },
      "outputs": [
        {
          "output_type": "error",
          "ename": "IndentationError",
          "evalue": "expected an indented block after function definition on line 40 (<ipython-input-1-9af7b70c1101>, line 42)",
          "traceback": [
            "\u001b[0;36m  File \u001b[0;32m\"<ipython-input-1-9af7b70c1101>\"\u001b[0;36m, line \u001b[0;32m42\u001b[0m\n\u001b[0;31m    def div(self):\u001b[0m\n\u001b[0m    ^\u001b[0m\n\u001b[0;31mIndentationError\u001b[0m\u001b[0;31m:\u001b[0m expected an indented block after function definition on line 40\n"
          ]
        }
      ],
      "source": [
        "#Basic GUI Application\n",
        "from tkinter import *\n",
        "class MyWindow:\n",
        "    def __init__(self,window):\n",
        "        self.lbl = Label(window, text = \"Simple Calculator\")\n",
        "        self.lbl.place(x=75, y =75)\n",
        "        self.lbl1 = Label(window,text = \"Number 1:\",fg=\"blue\")\n",
        "        self.lbl1.place(x=80,y=100)\n",
        "        self.txt1 = Entry(window,bd = 2)\n",
        "        self.txt1.place(x=150,y=100)\n",
        "\n",
        "        self.lbl2 = Label(window, text = \"Number 2:\", fg = \"orange\")\n",
        "        self.lbl2.place(x=80, y=150)\n",
        "        self.txt2 = Entry(window, bd = 5)\n",
        "        self.txt2.place(x=150,y=150)\n",
        "\n",
        "        self.btn1= Button(window,text = \"Add\", command=self.add)\n",
        "        self.btn1.place(x=80,y=200)\n",
        "        self.btn2 = Button(window, text = \"Subract\")\n",
        "        self.btn2.place(x=120,y=200)\n",
        "        self.btn2.bind('<Button-1>', self.sub)\n",
        "\n",
        "        self.txt3 = Entry(window)\n",
        "        self.txt3.place(x = 100,y =250)\n",
        "    def add(self):\n",
        "        self.txt3.delete(0, 'end')\n",
        "        num1 = int(self.txt1.get())\n",
        "        num2 = int(self.txt2.get())\n",
        "        result = num1+num2\n",
        "        self.txt3.insert(END, str(result))\n",
        "\n",
        "    def sub(self,event):\n",
        "\n",
        "        self.txt3.delete(0,'end')\n",
        "        num1=int(self.txt1.get())\n",
        "        num2 = int(self.txt2.get())\n",
        "        result = num1 - num2\n",
        "        self.txt3.insert(END, str(result))\n",
        "\n",
        "    def mul(self):\n",
        "\n",
        "    def div(self):\n",
        "\n",
        "window = Tk()\n",
        "mywin=MyWindow(window)\n",
        "window.geometry(\"500x400+10+20\")\n",
        "window.title(\"Python Project\")\n",
        "window.mainloop()"
      ]
    }
  ]
}