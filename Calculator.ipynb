{
  "nbformat": 4,
  "nbformat_minor": 0,
  "metadata": {
    "colab": {
      "provenance": [],
      "authorship_tag": "ABX9TyOJmgg1cE2IYPoUeFt8xLlX",
      "include_colab_link": true
    },
    "kernelspec": {
      "name": "python3",
      "display_name": "Python 3"
    },
    "language_info": {
      "name": "python"
    }
  },
  "cells": [
    {
      "cell_type": "markdown",
      "metadata": {
        "id": "view-in-github",
        "colab_type": "text"
      },
      "source": [
        "<a href=\"https://colab.research.google.com/github/ChloeMargarettePronebo/CPE009A-OOP/blob/main/Calculator.ipynb\" target=\"_parent\"><img src=\"https://colab.research.google.com/assets/colab-badge.svg\" alt=\"Open In Colab\"/></a>"
      ]
    },
    {
      "cell_type": "markdown",
      "source": [
        "from tkinter import *\n",
        "\n",
        "class MyWindow:\n",
        "    def __init__(self, window):\n",
        "        self.lbl = Label(window, text=\"Simple Calculator\")\n",
        "        self.lbl.place(x=75, y=75)\n",
        "\n",
        "        self.lbl1 = Label(window, text=\"Number 1:\", fg=\"blue\")\n",
        "        self.lbl1.place(x=80, y=100)\n",
        "        self.txt1 = Entry(window, bd=2)\n",
        "        self.txt1.place(x=150, y=100)\n",
        "\n",
        "        self.lbl2 = Label(window, text=\"Number 2:\", fg=\"orange\")\n",
        "        self.lbl2.place(x=80, y=150)\n",
        "        self.txt2 = Entry(window, bd=5)\n",
        "        self.txt2.place(x=150, y=150)\n",
        "\n",
        "        self.btn1 = Button(window, text=\"Add\", command=self.add)\n",
        "        self.btn1.place(x=80, y=200)\n",
        "\n",
        "        self.btn2 = Button(window, text=\"Subtract\", command=self.sub)\n",
        "        self.btn2.place(x=115, y=200)\n",
        "\n",
        "        self.btn3 = Button(window, text=\"Multiply\", command=self.mul)\n",
        "        self.btn3.place(x=172, y=200)\n",
        "\n",
        "        self.btn4 = Button(window, text=\"Divide\", command=self.div)\n",
        "        self.btn4.place(x=230, y=200)\n",
        "\n",
        "        self.txt3 = Entry(window)\n",
        "        self.txt3.place(x=100, y=250)\n",
        "\n",
        "    def add(self):\n",
        "        self.txt3.delete(0, 'end')\n",
        "        num1 = int(self.txt1.get())\n",
        "        num2 = int(self.txt2.get())\n",
        "        result = num1 + num2\n",
        "        self.txt3.insert(END, str(result))\n",
        "\n",
        "    def sub(self):\n",
        "        self.txt3.delete(0, 'end')\n",
        "        num1 = int(self.txt1.get())\n",
        "        num2 = int(self.txt2.get())\n",
        "        result = num1 - num2\n",
        "        self.txt3.insert(END, str(result))\n",
        "\n",
        "    def mul(self):\n",
        "        self.txt3.delete(0, 'end')\n",
        "        num1 = int(self.txt1.get())\n",
        "        num2 = int(self.txt2.get())\n",
        "        result = num1 * num2\n",
        "        self.txt3.insert(END, str(result))\n",
        "\n",
        "    def div(self):\n",
        "        self.txt3.delete(0, 'end')\n",
        "        num1 = int(self.txt1.get())\n",
        "        num2 = int(self.txt2.get())\n",
        "        result = num1 / num2\n",
        "        round(result, 2)\n",
        "        self.txt3.insert(END, str(result))\n",
        "\n",
        "window = Tk()\n",
        "mywin = MyWindow(window)\n",
        "window.geometry(\"500x400+10+20\")\n",
        "window.title(\"Python Project\")\n",
        "window.mainloop()"
      ],
      "metadata": {
        "id": "fkol3Y3ynCRF"
      }
    }
  ]
}