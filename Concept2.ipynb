{
  "nbformat": 4,
  "nbformat_minor": 0,
  "metadata": {
    "colab": {
      "provenance": [],
      "authorship_tag": "ABX9TyOuh6jbBlRe6lalhEsrcBPH",
      "include_colab_link": true
    },
    "kernelspec": {
      "name": "python3",
      "display_name": "Python 3"
    },
    "language_info": {
      "name": "python"
    }
  },
  "cells": [
    {
      "cell_type": "markdown",
      "metadata": {
        "id": "view-in-github",
        "colab_type": "text"
      },
      "source": [
        "<a href=\"https://colab.research.google.com/github/klowimargarette/CPE009A-OOP/blob/main/Concept2.ipynb\" target=\"_parent\"><img src=\"https://colab.research.google.com/assets/colab-badge.svg\" alt=\"Open In Colab\"/></a>"
      ]
    },
    {
      "cell_type": "code",
      "source": [
        "class RegularPolygon:\n",
        "  def __init__(self,side):\n",
        "    self.side=side\n",
        "class Square(RegularPolygon):\n",
        "  def area(self):\n",
        "    return self.side*self.side\n",
        "class EquilateralTriangle(RegularPolygon):    #inherits the properties of superclass RegularPolygon\n",
        "  def area(self):                             #difines the method/function to get the area of a square\n",
        "    return self.side*self.side*0.433\n",
        "\n",
        "\n",
        "square=Square(4)                              #creates and object name square\n",
        "print(square.area())                          #print the instance of the attrubute of Square class\n",
        "equiltriangle=EquilateralTriangle(4)          #creates and object name equiltriangle\n",
        "print(equiltriangle.area())                   #print the instance of the attribute of EquilateralTriangle class"
      ],
      "metadata": {
        "colab": {
          "base_uri": "https://localhost:8080/"
        },
        "id": "PlED1wubmgfU",
        "outputId": "66521d8c-f734-4fa7-e460-d81f02070eaa"
      },
      "execution_count": 13,
      "outputs": [
        {
          "output_type": "stream",
          "name": "stdout",
          "text": [
            "16\n",
            "6.928\n"
          ]
        }
      ]
    },
    {
      "cell_type": "markdown",
      "source": [
        "Encapsulation using Mangling(double__undersore)\n"
      ],
      "metadata": {
        "id": "ti2fVYnmrDG5"
      }
    },
    {
      "cell_type": "code",
      "source": [
        "class RegularPolygon:\n",
        "  def __init__(self,side):\n",
        "    self.side=side\n"
      ],
      "metadata": {
        "id": "hkTwTUu8rK9R"
      },
      "execution_count": null,
      "outputs": []
    },
    {
      "cell_type": "code",
      "source": [
        "class student:\n",
        "  def __init__(self,Prelim_grade,Midterm_grade,Final_grade):\n",
        "    self.prelim_grade\n",
        "    self.midterm_grade\n",
        "    self.final_garde"
      ],
      "metadata": {
        "id": "2U0c4-BhvsZo"
      },
      "execution_count": null,
      "outputs": []
    },
    {
      "cell_type": "code",
      "source": [
        "student1 = \"Student1\"\n",
        "student2 = \"Student2\"\n",
        "student3 = \"Student3\"\n",
        "\n",
        "\n",
        "term_grades = {\n",
        "    student1 : [77,81,90],\n",
        "    student2 : [50,60,70],\n",
        "    student3 : [85,89,95]\n",
        "}\n",
        "\n",
        "for student , grades in term_grades.items():\n",
        "  print(f\"{student}:{grades}\")\n",
        "\n",
        "  class Person:\n",
        "    def __init__(self,student1,student2,student3,prelim,midterm,finals):\n",
        "      self.student1 = student1\n",
        "      self.student2 = student2\n",
        "      self.student3 = student3\n",
        "      self.__prelim = prelim\n",
        "      self.__midterm= midterm\n",
        "      self.__finals = finals\n",
        "\n",
        "    def get_grades(self):\n",
        "      return [self.__prelim,self.__midterm,self.__finals]\n",
        "\n",
        "person1 = Person(\"Student1\",\"Student2\",\"Student3\", 77, 81, 90)\n",
        "person2 = Person(\"Student1\",\"Student2\",\"Student3\", 50,60,70)\n",
        "person3 = Person(\"Student1\",\"Student2\",\"Student3\", 85,89,95)\n",
        "\n",
        "print(person1.get_average_grades())\n",
        "print(person2.get_average_grades())\n",
        "print(person3.get_average_grades())"
      ],
      "metadata": {
        "colab": {
          "base_uri": "https://localhost:8080/",
          "height": 263
        },
        "id": "voIFCe2nz_G3",
        "outputId": "a02f4dcf-cf6f-45d2-b1b2-75ee185c0926"
      },
      "execution_count": 22,
      "outputs": [
        {
          "output_type": "stream",
          "name": "stdout",
          "text": [
            "Student1:[77, 81, 90]\n",
            "Student2:[50, 60, 70]\n",
            "Student3:[85, 89, 95]\n"
          ]
        },
        {
          "output_type": "error",
          "ename": "AttributeError",
          "evalue": "'Person' object has no attribute 'get_average_grades'",
          "traceback": [
            "\u001b[0;31m---------------------------------------------------------------------------\u001b[0m",
            "\u001b[0;31mAttributeError\u001b[0m                            Traceback (most recent call last)",
            "\u001b[0;32m<ipython-input-22-5b3573c84c45>\u001b[0m in \u001b[0;36m<cell line: 31>\u001b[0;34m()\u001b[0m\n\u001b[1;32m     29\u001b[0m \u001b[0mperson3\u001b[0m \u001b[0;34m=\u001b[0m \u001b[0mPerson\u001b[0m\u001b[0;34m(\u001b[0m\u001b[0;34m\"Student1\"\u001b[0m\u001b[0;34m,\u001b[0m\u001b[0;34m\"Student2\"\u001b[0m\u001b[0;34m,\u001b[0m\u001b[0;34m\"Student3\"\u001b[0m\u001b[0;34m,\u001b[0m \u001b[0;36m85\u001b[0m\u001b[0;34m,\u001b[0m\u001b[0;36m89\u001b[0m\u001b[0;34m,\u001b[0m\u001b[0;36m95\u001b[0m\u001b[0;34m)\u001b[0m\u001b[0;34m\u001b[0m\u001b[0;34m\u001b[0m\u001b[0m\n\u001b[1;32m     30\u001b[0m \u001b[0;34m\u001b[0m\u001b[0m\n\u001b[0;32m---> 31\u001b[0;31m \u001b[0mprint\u001b[0m\u001b[0;34m(\u001b[0m\u001b[0mperson1\u001b[0m\u001b[0;34m.\u001b[0m\u001b[0mget_average_grades\u001b[0m\u001b[0;34m(\u001b[0m\u001b[0;34m)\u001b[0m\u001b[0;34m)\u001b[0m\u001b[0;34m\u001b[0m\u001b[0;34m\u001b[0m\u001b[0m\n\u001b[0m\u001b[1;32m     32\u001b[0m \u001b[0mprint\u001b[0m\u001b[0;34m(\u001b[0m\u001b[0mperson2\u001b[0m\u001b[0;34m.\u001b[0m\u001b[0mget_average_grades\u001b[0m\u001b[0;34m(\u001b[0m\u001b[0;34m)\u001b[0m\u001b[0;34m)\u001b[0m\u001b[0;34m\u001b[0m\u001b[0;34m\u001b[0m\u001b[0m\n\u001b[1;32m     33\u001b[0m \u001b[0mprint\u001b[0m\u001b[0;34m(\u001b[0m\u001b[0mperson3\u001b[0m\u001b[0;34m.\u001b[0m\u001b[0mget_average_grades\u001b[0m\u001b[0;34m(\u001b[0m\u001b[0;34m)\u001b[0m\u001b[0;34m)\u001b[0m\u001b[0;34m\u001b[0m\u001b[0;34m\u001b[0m\u001b[0m\n",
            "\u001b[0;31mAttributeError\u001b[0m: 'Person' object has no attribute 'get_average_grades'"
          ]
        }
      ]
    }
  ]
}